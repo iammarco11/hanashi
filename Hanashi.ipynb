{
  "nbformat": 4,
  "nbformat_minor": 0,
  "metadata": {
    "colab": {
      "name": "Hanashi.ipynb",
      "provenance": [],
      "collapsed_sections": [],
      "toc_visible": true
    },
    "kernelspec": {
      "name": "python3",
      "display_name": "Python 3"
    }
  },
  "cells": [
    {
      "cell_type": "markdown",
      "metadata": {
        "id": "gJfq9g905O21"
      },
      "source": [
        "# So this is my starting work at speech recognition\n",
        "Hanashi means talk or speech in Japanese.\n",
        "\n",
        "ps: really a noob, don't hesitate to correct me :p\n",
        "\n",
        "1. First make the audio into a sound wave and make that a pictorial representation (something known as spectrogram).\n",
        "\n",
        "\n"
      ]
    },
    {
      "cell_type": "code",
      "metadata": {
        "colab": {
          "base_uri": "https://localhost:8080/"
        },
        "id": "c4f2ohdd1NVe",
        "outputId": "5da4ceb2-495d-46a7-def4-1fdd895b2d44"
      },
      "source": [
        "!pip install pydub\n",
        "!pip install matplotlib\n",
        "!apt-get install ffmpeg"
      ],
      "execution_count": 2,
      "outputs": [
        {
          "output_type": "stream",
          "text": [
            "Collecting pydub\n",
            "  Downloading https://files.pythonhosted.org/packages/7b/d1/fbfa79371a8cd9bb15c2e3c480d7e6e340ed5cc55005174e16f48418333a/pydub-0.24.1-py2.py3-none-any.whl\n",
            "Installing collected packages: pydub\n",
            "Successfully installed pydub-0.24.1\n",
            "Requirement already satisfied: matplotlib in /usr/local/lib/python3.6/dist-packages (3.2.2)\n",
            "Requirement already satisfied: cycler>=0.10 in /usr/local/lib/python3.6/dist-packages (from matplotlib) (0.10.0)\n",
            "Requirement already satisfied: kiwisolver>=1.0.1 in /usr/local/lib/python3.6/dist-packages (from matplotlib) (1.3.1)\n",
            "Requirement already satisfied: python-dateutil>=2.1 in /usr/local/lib/python3.6/dist-packages (from matplotlib) (2.8.1)\n",
            "Requirement already satisfied: pyparsing!=2.0.4,!=2.1.2,!=2.1.6,>=2.0.1 in /usr/local/lib/python3.6/dist-packages (from matplotlib) (2.4.7)\n",
            "Requirement already satisfied: numpy>=1.11 in /usr/local/lib/python3.6/dist-packages (from matplotlib) (1.19.4)\n",
            "Requirement already satisfied: six in /usr/local/lib/python3.6/dist-packages (from cycler>=0.10->matplotlib) (1.15.0)\n",
            "Reading package lists... Done\n",
            "Building dependency tree       \n",
            "Reading state information... Done\n",
            "ffmpeg is already the newest version (7:3.4.8-0ubuntu0.2).\n",
            "0 upgraded, 0 newly installed, 0 to remove and 15 not upgraded.\n"
          ],
          "name": "stdout"
        }
      ]
    },
    {
      "cell_type": "code",
      "metadata": {
        "colab": {
          "base_uri": "https://localhost:8080/",
          "height": 347
        },
        "id": "d9NsF0Ou4s28",
        "outputId": "8cb9c42c-80a1-435a-a83b-f96acbc13c9f"
      },
      "source": [
        "import numpy as np\n",
        "import matplotlib.pyplot as plt\n",
        "\n",
        "import wave\n",
        "from os import path\n",
        "from pydub import AudioSegment\n",
        "\n",
        "\n",
        "print(np.__version__)\n",
        "\n",
        "src = \"/home/sample.mp3\"\n",
        "dst = \"/home/sample.wav\"\n",
        "\n",
        "sound = AudioSegment.from_mp3(src)\n",
        "sound.export(dst, format=\"wav\")\n",
        "\n",
        "audio_wave = wave.open(\"/home/sample.wav\", \"rb\")\n",
        "\n",
        "\n",
        "total_frames = audio_wave.getnframes() \n",
        "frame_rate = audio_wave.getframerate()\n",
        "sample_width = audio_wave.getsampwidth()\n",
        "\n",
        "read_frames = audio_wave.readframes(-1)\n",
        "read_frames = np.frombuffer(read_frames, dtype=\"int16\")\n",
        "\n",
        "time = total_frames/frame_rate\n",
        "\n",
        "print(max(read_frames))\n",
        "print(min(read_frames))\n",
        "\n",
        "time_axis = np.linspace(0, time, len(read_frames))\n",
        "\n",
        "plt.figure(1)\n",
        "plt.title(\"Wave form of the audio\")\n",
        "\n",
        "plt.xlabel(\"Time\")\n",
        "plt.ylabel(\"Amplitude\")\n",
        "plt.plot(time_axis, read_frames)\n",
        "plt.show()\n"
      ],
      "execution_count": 3,
      "outputs": [
        {
          "output_type": "stream",
          "text": [
            "1.19.4\n",
            "30995\n",
            "-29803\n"
          ],
          "name": "stdout"
        },
        {
          "output_type": "display_data",
          "data": {
            "image/png": "[encoded data removed]",
            "text/plain": [
              "<Figure size 432x288 with 1 Axes>"
            ]
          },
          "metadata": {
            "tags": [],
            "needs_background": "light"
          }
        }
      ]
    },
    {
      "cell_type": "code",
      "metadata": {
        "id": "jRey4nKq-ihq"
      },
      "source": [
        ""
      ],
      "execution_count": 5,
      "outputs": []
    }
  ]
}