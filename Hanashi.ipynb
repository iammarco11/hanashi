{
  "nbformat": 4,
  "nbformat_minor": 0,
  "metadata": {
    "colab": {
      "name": "Hanashi.ipynb",
      "provenance": [],
      "collapsed_sections": [],
      "toc_visible": true
    },
    "kernelspec": {
      "name": "python3",
      "display_name": "Python 3"
    }
  },
  "cells": [
    {
      "cell_type": "markdown",
      "metadata": {
        "id": "gJfq9g905O21"
      },
      "source": [
        "# So this is my starting work at speech recognition\n",
        "Hanashi means talk or speech in Japanese.\n",
        "\n",
        "ps: really a noob, don't hesitate to correct me :p\n",
        "\n",
        "1. First make the audio into a sound wave and make that a pictorial representation (something known as spectrogram).\n",
        "\n",
        "\n"
      ]
    },
    {
      "cell_type": "code",
      "metadata": {
        "colab": {
          "base_uri": "https://localhost:8080/"
        },
        "id": "c4f2ohdd1NVe",
        "outputId": "ae58a169-ad22-4dcf-a67c-7b9a436038ad"
      },
      "source": [
        "!pip install pydub\n",
        "!pip install matplotlib\n",
        "!apt-get install ffmpeg\n",
        "!pip install librosa"
      ],
      "execution_count": 1,
      "outputs": [
        {
          "output_type": "stream",
          "text": [
            "Collecting pydub\n",
            "  Downloading https://files.pythonhosted.org/packages/7b/d1/fbfa79371a8cd9bb15c2e3c480d7e6e340ed5cc55005174e16f48418333a/pydub-0.24.1-py2.py3-none-any.whl\n",
            "Installing collected packages: pydub\n",
            "Successfully installed pydub-0.24.1\n",
            "Requirement already satisfied: matplotlib in /usr/local/lib/python3.6/dist-packages (3.2.2)\n",
            "Requirement already satisfied: python-dateutil>=2.1 in /usr/local/lib/python3.6/dist-packages (from matplotlib) (2.8.1)\n",
            "Requirement already satisfied: numpy>=1.11 in /usr/local/lib/python3.6/dist-packages (from matplotlib) (1.19.5)\n",
            "Requirement already satisfied: kiwisolver>=1.0.1 in /usr/local/lib/python3.6/dist-packages (from matplotlib) (1.3.1)\n",
            "Requirement already satisfied: cycler>=0.10 in /usr/local/lib/python3.6/dist-packages (from matplotlib) (0.10.0)\n",
            "Requirement already satisfied: pyparsing!=2.0.4,!=2.1.2,!=2.1.6,>=2.0.1 in /usr/local/lib/python3.6/dist-packages (from matplotlib) (2.4.7)\n",
            "Requirement already satisfied: six>=1.5 in /usr/local/lib/python3.6/dist-packages (from python-dateutil>=2.1->matplotlib) (1.15.0)\n",
            "Reading package lists... Done\n",
            "Building dependency tree       \n",
            "Reading state information... Done\n",
            "ffmpeg is already the newest version (7:3.4.8-0ubuntu0.2).\n",
            "0 upgraded, 0 newly installed, 0 to remove and 16 not upgraded.\n",
            "Requirement already satisfied: librosa in /usr/local/lib/python3.6/dist-packages (0.6.3)\n",
            "Requirement already satisfied: joblib>=0.12 in /usr/local/lib/python3.6/dist-packages (from librosa) (1.0.0)\n",
            "Requirement already satisfied: scikit-learn!=0.19.0,>=0.14.0 in /usr/local/lib/python3.6/dist-packages (from librosa) (0.22.2.post1)\n",
            "Requirement already satisfied: numpy>=1.8.0 in /usr/local/lib/python3.6/dist-packages (from librosa) (1.19.5)\n",
            "Requirement already satisfied: six>=1.3 in /usr/local/lib/python3.6/dist-packages (from librosa) (1.15.0)\n",
            "Requirement already satisfied: numba>=0.38.0 in /usr/local/lib/python3.6/dist-packages (from librosa) (0.48.0)\n",
            "Requirement already satisfied: resampy>=0.2.0 in /usr/local/lib/python3.6/dist-packages (from librosa) (0.2.2)\n",
            "Requirement already satisfied: decorator>=3.0.0 in /usr/local/lib/python3.6/dist-packages (from librosa) (4.4.2)\n",
            "Requirement already satisfied: audioread>=2.0.0 in /usr/local/lib/python3.6/dist-packages (from librosa) (2.1.9)\n",
            "Requirement already satisfied: scipy>=1.0.0 in /usr/local/lib/python3.6/dist-packages (from librosa) (1.4.1)\n",
            "Requirement already satisfied: setuptools in /usr/local/lib/python3.6/dist-packages (from numba>=0.38.0->librosa) (51.1.1)\n",
            "Requirement already satisfied: llvmlite<0.32.0,>=0.31.0dev0 in /usr/local/lib/python3.6/dist-packages (from numba>=0.38.0->librosa) (0.31.0)\n"
          ],
          "name": "stdout"
        }
      ]
    },
    {
      "cell_type": "code",
      "metadata": {
        "colab": {
          "base_uri": "https://localhost:8080/",
          "height": 312
        },
        "id": "wrggKYJ7CuEv",
        "outputId": "8a7b7afd-6aa7-4815-d9fe-775ab0a45b6a"
      },
      "source": [
        "import numpy as np\n",
        "import matplotlib.pyplot as plt\n",
        "\n",
        "import wave\n",
        "from os import path\n",
        "from pydub import AudioSegment\n",
        "\n",
        "\n",
        "class audio_processing(object):\n",
        "    def __init__(self, sample_src, sample_dst, resample):\n",
        "        self.sample_src = sample_src\n",
        "        self.sample_dst = sample_dst\n",
        "        self.resample = resample\n",
        "        self.__wav_conversion()\n",
        "        self.__wav_resample()\n",
        "\n",
        "    def __wav_conversion(self):\n",
        "        sound = AudioSegment.from_mp3(self.sample_src)\n",
        "        sound.export(self.sample_dst, format=\"wav\")\n",
        "\n",
        "    def wav_info(self):\n",
        "        audio_wave = wave.open(str(self.sample_dst), \"rb\")\n",
        "\n",
        "        nchannels = audio_wave.getnchannels()\n",
        "        sampwidth = audio_wave.getsampwidth()\n",
        "        framerate = audio_wave.getframerate()\n",
        "        nframes = audio_wave.getnframes()\n",
        "        comptype = audio_wave.getcomptype()\n",
        "        compname = audio_wave.getcompname()\n",
        "        total_time = nframes/framerate\n",
        "\n",
        "        audio_wave.close()\n",
        "        return nchannels, sampwidth, framerate, nframes, comptype, compname, total_time\n",
        "\n",
        "    def __wav_resample(self):\n",
        "        nchannels, sampwidth, framerate, nframes, comptype, compname, total_time = self.wav_info()\n",
        "        audio_wave = wave.open(\"/home/resample.wav\", \"wb\")\n",
        "        params = (nchannels, sampwidth, self.resample, nframes, comptype, compname)\n",
        "        audio_wave.setparams(params)\n",
        "\n",
        "        audio_wave.close()\n",
        "\n",
        "    def wav_waveform(self):\n",
        "        nchannels, sampwidth, framerate, nframes, comptype, compname, total_time = self.wav_info()\n",
        "\n",
        "        audio_wave = wave.open(str(self.sample_dst), \"rb\")\n",
        "        \n",
        "        read_frames = audio_wave.readframes(-1)\n",
        "        read_frames = np.frombuffer(read_frames, dtype=\"int16\")\n",
        "\n",
        "        time_axis = np.linspace(0, total_time, len(read_frames))\n",
        "\n",
        "        audio_wave.close()\n",
        "        plt.figure(1)\n",
        "        plt.title(\"Wave form of the audio\")\n",
        "\n",
        "        plt.xlabel(\"Time\")\n",
        "        plt.ylabel(\"Amplitude\")\n",
        "        plt.plot(time_axis, read_frames)\n",
        "        plt.show()\n",
        "\n",
        "if __name__ == \"__main__\":\n",
        "    sample_src = \"/home/sample.mp3\"\n",
        "    sample_dst = \"/home/sample.wav\"\n",
        "    audio_processing = audio_processing(sample_src, sample_dst, 8000) #resampling to 8000hz\n",
        "    audio_processing.wav_waveform()\n",
        "\n"
      ],
      "execution_count": 12,
      "outputs": [
        {
          "output_type": "stream",
          "text": [
            "(1, 2, 44100, 355968, 'NONE', 'not compressed', 8.071836734693878)\n"
          ],
          "name": "stdout"
        },
        {
          "output_type": "display_data",
          "data": {
            "image/png": "[encoded data removed]",
            "text/plain": [
              "<Figure size 432x288 with 1 Axes>"
            ]
          },
          "metadata": {
            "tags": [],
            "needs_background": "light"
          }
        }
      ]
    },
    {
      "cell_type": "code",
      "metadata": {
        "colab": {
          "base_uri": "https://localhost:8080/",
          "height": 382
        },
        "id": "d9NsF0Ou4s28",
        "outputId": "cd2ea9b5-5155-4bd0-880c-604fce61c76c"
      },
      "source": [
        "import numpy as np\n",
        "import matplotlib.pyplot as plt\n",
        "\n",
        "import wave\n",
        "from os import path\n",
        "from pydub import AudioSegment\n",
        "\n",
        "\n",
        "print(np.__version__)\n",
        "\n",
        "src = \"/home/sample.mp3\"\n",
        "dst = \"/home/sample.wav\"\n",
        "\n",
        "sound = AudioSegment.from_mp3(src)\n",
        "sound.export(dst, format=\"wav\")\n",
        "\n",
        "audio_wave = wave.open(\"/home/sample.wav\", \"rb\")\n",
        "\n",
        "\n",
        "total_frames = audio_wave.getnframes() \n",
        "frame_rate = audio_wave.getframerate()\n",
        "sample_width = audio_wave.getsampwidth()\n",
        "\n",
        "read_frames = audio_wave.readframes(-1)\n",
        "read_frames = np.frombuffer(read_frames, dtype=\"int16\")\n",
        "\n",
        "time = total_frames/frame_rate\n",
        "\n",
        "print(max(read_frames))\n",
        "print(min(read_frames))\n",
        "print(sample_width)\n",
        "print(frame_rate)\n",
        "\n",
        "time_axis = np.linspace(0, time, len(read_frames))\n",
        "\n",
        "plt.figure(1)\n",
        "plt.title(\"Wave form of the audio\")\n",
        "\n",
        "plt.xlabel(\"Time\")\n",
        "plt.ylabel(\"Amplitude\")\n",
        "plt.plot(time_axis, read_frames)\n",
        "plt.show()\n"
      ],
      "execution_count": 13,
      "outputs": [
        {
          "output_type": "stream",
          "text": [
            "1.19.5\n",
            "3041\n",
            "-4405\n",
            "2\n",
            "44100\n"
          ],
          "name": "stdout"
        },
        {
          "output_type": "display_data",
          "data": {
            "image/png": "[encoded data removed]",
            "text/plain": [
              "<Figure size 432x288 with 1 Axes>"
            ]
          },
          "metadata": {
            "tags": [],
            "needs_background": "light"
          }
        }
      ]
    }
  ]
}